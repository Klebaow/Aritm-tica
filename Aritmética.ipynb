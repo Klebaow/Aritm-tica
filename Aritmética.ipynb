{
  "nbformat": 4,
  "nbformat_minor": 0,
  "metadata": {
    "colab": {
      "provenance": []
    },
    "kernelspec": {
      "name": "python3",
      "display_name": "Python 3"
    },
    "language_info": {
      "name": "python"
    }
  },
  "cells": [
    {
      "cell_type": "code",
      "execution_count": 2,
      "metadata": {
        "colab": {
          "base_uri": "https://localhost:8080/"
        },
        "id": "1qfZpRp02dYS",
        "outputId": "7531a52e-578b-4e7e-c3f6-42ac27111551"
      },
      "outputs": [
        {
          "output_type": "execute_result",
          "data": {
            "text/plain": [
              "True"
            ]
          },
          "metadata": {},
          "execution_count": 2
        }
      ],
      "source": [
        "# comunitatividade\n",
        "1 + 2  == 2 + 1"
      ]
    },
    {
      "cell_type": "code",
      "source": [
        "# associatividade\n",
        "(1 + 5) + 5"
      ],
      "metadata": {
        "colab": {
          "base_uri": "https://localhost:8080/"
        },
        "id": "819Tcqgt_LTd",
        "outputId": "9b2c3eb8-c1ce-4605-eb47-b1a1d7c486b0"
      },
      "execution_count": 5,
      "outputs": [
        {
          "output_type": "execute_result",
          "data": {
            "text/plain": [
              "11"
            ]
          },
          "metadata": {},
          "execution_count": 5
        }
      ]
    },
    {
      "cell_type": "code",
      "source": [
        "# comunitavidade e associatividade\n",
        "(2 + 5) - 1 == (4 + 3) - 1"
      ],
      "metadata": {
        "colab": {
          "base_uri": "https://localhost:8080/"
        },
        "id": "yzofTJJB_Qvl",
        "outputId": "a823d64c-3493-493c-8ba2-b8198c02c967"
      },
      "execution_count": 7,
      "outputs": [
        {
          "output_type": "execute_result",
          "data": {
            "text/plain": [
              "True"
            ]
          },
          "metadata": {},
          "execution_count": 7
        }
      ]
    },
    {
      "cell_type": "code",
      "source": [
        "# zero é o elemento neutro da adição\n",
        "7 + 0"
      ],
      "metadata": {
        "colab": {
          "base_uri": "https://localhost:8080/"
        },
        "id": "N1WRVEtBAci9",
        "outputId": "2a7b5274-9803-4e93-d44e-7ab83bb66dc4"
      },
      "execution_count": 8,
      "outputs": [
        {
          "output_type": "execute_result",
          "data": {
            "text/plain": [
              "7"
            ]
          },
          "metadata": {},
          "execution_count": 8
        }
      ]
    },
    {
      "cell_type": "code",
      "source": [
        "# subtração\n",
        "7 - 2"
      ],
      "metadata": {
        "colab": {
          "base_uri": "https://localhost:8080/"
        },
        "id": "19dLmIy7AcGj",
        "outputId": "9ae40140-ad71-4269-8ae0-9b8e6263e9e7"
      },
      "execution_count": 10,
      "outputs": [
        {
          "output_type": "execute_result",
          "data": {
            "text/plain": [
              "5"
            ]
          },
          "metadata": {},
          "execution_count": 10
        }
      ]
    },
    {
      "cell_type": "code",
      "source": [
        "# Multiplicação\n",
        "2 * 5"
      ],
      "metadata": {
        "colab": {
          "base_uri": "https://localhost:8080/"
        },
        "id": "4kXnryUTAcDM",
        "outputId": "eddff8f6-b688-443b-e3e7-3aee71e6f185"
      },
      "execution_count": 13,
      "outputs": [
        {
          "output_type": "execute_result",
          "data": {
            "text/plain": [
              "10"
            ]
          },
          "metadata": {},
          "execution_count": 13
        }
      ]
    },
    {
      "cell_type": "code",
      "source": [
        "# numero 1 é neutro na muiltiplicação\n",
        "5 * 2"
      ],
      "metadata": {
        "colab": {
          "base_uri": "https://localhost:8080/"
        },
        "id": "7qO_oDs_AbOC",
        "outputId": "26fa4e6b-2e51-4bf3-a937-111250b7302a"
      },
      "execution_count": 16,
      "outputs": [
        {
          "output_type": "execute_result",
          "data": {
            "text/plain": [
              "10"
            ]
          },
          "metadata": {},
          "execution_count": 16
        }
      ]
    },
    {
      "cell_type": "code",
      "source": [
        "5 * 2 * 1"
      ],
      "metadata": {
        "colab": {
          "base_uri": "https://localhost:8080/"
        },
        "id": "6GlchKenCkdK",
        "outputId": "0527fece-4ad6-4abe-b14e-86fb30d5261a"
      },
      "execution_count": 15,
      "outputs": [
        {
          "output_type": "execute_result",
          "data": {
            "text/plain": [
              "10"
            ]
          },
          "metadata": {},
          "execution_count": 15
        }
      ]
    },
    {
      "cell_type": "code",
      "source": [
        "# Divisão\n",
        "8 // 2"
      ],
      "metadata": {
        "colab": {
          "base_uri": "https://localhost:8080/"
        },
        "id": "luZZmZTICwjo",
        "outputId": "ea234df2-a065-4da1-864f-9f1a928a3bd0"
      },
      "execution_count": 21,
      "outputs": [
        {
          "output_type": "execute_result",
          "data": {
            "text/plain": [
              "4"
            ]
          },
          "metadata": {},
          "execution_count": 21
        }
      ]
    },
    {
      "cell_type": "code",
      "source": [
        "# 8 dividendo\n",
        "# 2 divisor\n",
        "# 4 cociente\n",
        "# 0 zero\n",
        "\n",
        "# quando o resto é zero o dividendo é divisivel pelo divisor"
      ],
      "metadata": {
        "id": "lWb6mWJVCwfg"
      },
      "execution_count": 22,
      "outputs": []
    },
    {
      "cell_type": "code",
      "source": [
        "# resto\n",
        "9 // 2"
      ],
      "metadata": {
        "colab": {
          "base_uri": "https://localhost:8080/"
        },
        "id": "acnNAiSuCwdO",
        "outputId": "a9fa2d19-04e8-466e-d0ba-322b5d4b57be"
      },
      "execution_count": 27,
      "outputs": [
        {
          "output_type": "execute_result",
          "data": {
            "text/plain": [
              "4"
            ]
          },
          "metadata": {},
          "execution_count": 27
        }
      ]
    },
    {
      "cell_type": "code",
      "source": [
        "9 % 2"
      ],
      "metadata": {
        "colab": {
          "base_uri": "https://localhost:8080/"
        },
        "id": "csilt9ZpCwao",
        "outputId": "f49f4142-d4b4-440c-c7e6-9749a167392d"
      },
      "execution_count": 25,
      "outputs": [
        {
          "output_type": "execute_result",
          "data": {
            "text/plain": [
              "1"
            ]
          },
          "metadata": {},
          "execution_count": 25
        }
      ]
    },
    {
      "cell_type": "code",
      "source": [
        "# Conceito de sucessor\n"
      ],
      "metadata": {
        "id": "uJC7f2F7Fxqr"
      },
      "execution_count": null,
      "outputs": []
    },
    {
      "cell_type": "code",
      "source": [
        "# 0, 1, 2, 3, 4, 5, 6, 7, 8, 9, 10, 11 , 12..."
      ],
      "metadata": {
        "id": "LsYU5QaiFxZ0"
      },
      "execution_count": null,
      "outputs": []
    },
    {
      "cell_type": "code",
      "source": [
        "def sucessor(n):\n",
        "  return n + 1"
      ],
      "metadata": {
        "id": "FEc66T0-FxVy"
      },
      "execution_count": 30,
      "outputs": []
    },
    {
      "cell_type": "code",
      "source": [
        "sucessor(28)"
      ],
      "metadata": {
        "colab": {
          "base_uri": "https://localhost:8080/"
        },
        "id": "rf0Rev6pFxRK",
        "outputId": "542ebe6b-72df-43fc-bde6-155833f74e3a"
      },
      "execution_count": 35,
      "outputs": [
        {
          "output_type": "execute_result",
          "data": {
            "text/plain": [
              "29"
            ]
          },
          "metadata": {},
          "execution_count": 35
        }
      ]
    },
    {
      "cell_type": "code",
      "source": [
        "# Gerar e imprimir a sequência de números naturais até um limite\n",
        "limite = 10\n",
        "for i in range(limite + 1):\n",
        "    print(i, end=' ')\n",
        "    print('sucessor({}) = {}'.format(i, sucessor(i)))"
      ],
      "metadata": {
        "colab": {
          "base_uri": "https://localhost:8080/"
        },
        "id": "l28Kc1rgHim5",
        "outputId": "85759ec9-1cf1-4b23-a0d7-ae1b38b73554"
      },
      "execution_count": 34,
      "outputs": [
        {
          "output_type": "stream",
          "name": "stdout",
          "text": [
            "0 sucessor(0) = 1\n",
            "1 sucessor(1) = 2\n",
            "2 sucessor(2) = 3\n",
            "3 sucessor(3) = 4\n",
            "4 sucessor(4) = 5\n",
            "5 sucessor(5) = 6\n",
            "6 sucessor(6) = 7\n",
            "7 sucessor(7) = 8\n",
            "8 sucessor(8) = 9\n",
            "9 sucessor(9) = 10\n",
            "10 sucessor(10) = 11\n"
          ]
        }
      ]
    },
    {
      "cell_type": "code",
      "source": [
        "# Antercessor\n",
        "def Antercessor(n):\n",
        "  return n - 1"
      ],
      "metadata": {
        "id": "r86m-PYeIMDL"
      },
      "execution_count": 36,
      "outputs": []
    },
    {
      "cell_type": "code",
      "source": [
        "Antercessor(10)"
      ],
      "metadata": {
        "colab": {
          "base_uri": "https://localhost:8080/"
        },
        "id": "by1_Ur8bINB_",
        "outputId": "a4a0beab-6ab5-42fa-c80d-f10c9c77f76b"
      },
      "execution_count": 37,
      "outputs": [
        {
          "output_type": "execute_result",
          "data": {
            "text/plain": [
              "9"
            ]
          },
          "metadata": {},
          "execution_count": 37
        }
      ]
    },
    {
      "cell_type": "code",
      "source": [
        "# Multiplos\n",
        "# quais são os Múltiplos de 2?\n",
        "# - Os múltiplos são todos os numeros que são * por 2\n"
      ],
      "metadata": {
        "id": "NmlQwsGuIM2O"
      },
      "execution_count": null,
      "outputs": []
    },
    {
      "cell_type": "code",
      "source": [
        "def Multiplos(n):\n",
        "  resposta = []\n",
        "  for i in range(0, n+1):\n",
        "    resposta.append(i * 2)\n",
        "  return resposta"
      ],
      "metadata": {
        "id": "L598pJ8dIMyw"
      },
      "execution_count": 70,
      "outputs": []
    },
    {
      "cell_type": "code",
      "source": [
        "Multiplos(10)"
      ],
      "metadata": {
        "colab": {
          "base_uri": "https://localhost:8080/"
        },
        "id": "Oxel4_6jIMwZ",
        "outputId": "4f2ccf6e-521e-4d7d-bc4c-b6cb86f0cc2c"
      },
      "execution_count": 71,
      "outputs": [
        {
          "output_type": "execute_result",
          "data": {
            "text/plain": [
              "[0, 2, 4, 6, 8, 10, 12, 14, 16, 18, 20]"
            ]
          },
          "metadata": {},
          "execution_count": 71
        }
      ]
    },
    {
      "cell_type": "code",
      "source": [
        "Multiplos(0)"
      ],
      "metadata": {
        "colab": {
          "base_uri": "https://localhost:8080/"
        },
        "id": "UrYHEiPzIMtT",
        "outputId": "98ad74f0-f5a3-4547-b633-18bba134ebd0"
      },
      "execution_count": 46,
      "outputs": [
        {
          "output_type": "execute_result",
          "data": {
            "text/plain": [
              "[0]"
            ]
          },
          "metadata": {},
          "execution_count": 46
        }
      ]
    },
    {
      "cell_type": "code",
      "source": [
        "# Divisores\n",
        "print(\"Encontrar os divisores\")"
      ],
      "metadata": {
        "id": "V7oamqVGLeYW"
      },
      "execution_count": null,
      "outputs": []
    },
    {
      "cell_type": "code",
      "source": [
        "divisores(10)"
      ],
      "metadata": {
        "colab": {
          "base_uri": "https://localhost:8080/"
        },
        "id": "wrfLo08HLfbh",
        "outputId": "deadf64a-ecba-4bf8-bff7-7f6c65639b0f"
      },
      "execution_count": 67,
      "outputs": [
        {
          "output_type": "execute_result",
          "data": {
            "text/plain": [
              "[1]"
            ]
          },
          "metadata": {},
          "execution_count": 67
        }
      ]
    },
    {
      "cell_type": "code",
      "source": [
        "# pedra, papel e tesoura\n",
        "# pedra = 0\n",
        "# papel = 1\n",
        "# tesoura = 2"
      ],
      "metadata": {
        "id": "S1gmUpbZLfPW"
      },
      "execution_count": null,
      "outputs": []
    },
    {
      "cell_type": "code",
      "source": [
        "jogador1 = 1\n",
        "jogador2 = 0"
      ],
      "metadata": {
        "id": "1mn2eInRLfL2"
      },
      "execution_count": 73,
      "outputs": []
    },
    {
      "cell_type": "code",
      "source": [
        "if jogador1 == jogador2:\n",
        "   print(\"empate\")\n",
        "elif jogador1 ==(jogador2 + 1) % 3:\n",
        "   print(\"jogador2 venceu\")\n",
        "else:\n",
        "  print('jogador1 venceu')"
      ],
      "metadata": {
        "colab": {
          "base_uri": "https://localhost:8080/"
        },
        "id": "M7hQMCqoLfJm",
        "outputId": "c189827c-9770-4aea-9b39-b878a4660aa5"
      },
      "execution_count": 77,
      "outputs": [
        {
          "output_type": "stream",
          "name": "stdout",
          "text": [
            "jogador2 venceu\n"
          ]
        }
      ]
    },
    {
      "cell_type": "code",
      "source": [],
      "metadata": {
        "id": "9S9cGPXLaFBc"
      },
      "execution_count": null,
      "outputs": []
    },
    {
      "cell_type": "code",
      "source": [],
      "metadata": {
        "id": "-tn5RLOCaE-G"
      },
      "execution_count": null,
      "outputs": []
    },
    {
      "cell_type": "code",
      "source": [],
      "metadata": {
        "id": "iBKzJGE1aE7l"
      },
      "execution_count": null,
      "outputs": []
    }
  ]
}